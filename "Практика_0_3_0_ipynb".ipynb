{
  "nbformat": 4,
  "nbformat_minor": 0,
  "metadata": {
    "colab": {
      "provenance": [],
      "include_colab_link": true
    },
    "kernelspec": {
      "name": "python3",
      "display_name": "Python 3"
    },
    "language_info": {
      "name": "python"
    }
  },
  "cells": [
    {
      "cell_type": "markdown",
      "metadata": {
        "id": "view-in-github",
        "colab_type": "text"
      },
      "source": [
        "<a href=\"https://colab.research.google.com/github/turbokriper9/programming-practices-AI/blob/main/%22%D0%9F%D1%80%D0%B0%D0%BA%D1%82%D0%B8%D0%BA%D0%B0_0_3_0_ipynb%22.ipynb\" target=\"_parent\"><img src=\"https://colab.research.google.com/assets/colab-badge.svg\" alt=\"Open In Colab\"/></a>"
      ]
    },
    {
      "cell_type": "markdown",
      "source": [
        "ФИО"
      ],
      "metadata": {
        "id": "phMKaFq3DN13"
      }
    },
    {
      "cell_type": "code",
      "execution_count": null,
      "metadata": {
        "id": "3CWpaI7SDK8t"
      },
      "outputs": [],
      "source": [
        "Ануфриев Денис Дмитриевич"
      ]
    },
    {
      "cell_type": "markdown",
      "source": [
        "**Во всей практике нельзя применять библиотеки предоставляющие готовые решения!**"
      ],
      "metadata": {
        "id": "jyIy3GOgFOCe"
      }
    },
    {
      "cell_type": "markdown",
      "source": [
        "# **Задача 1.**\n"
      ],
      "metadata": {
        "id": "XizmlL1RK2t3"
      }
    },
    {
      "cell_type": "markdown",
      "source": [
        "\n",
        "\n",
        "Типы данных Напишите программу на Python, которая принимает список чисел в качестве входных данных от пользователя, а затем выводит сумму, среднее значение и максимальное значение из списка.\n",
        "\n",
        "***Нельзя использовать: len(), min(), max(), average(), sum()***\n",
        "\n",
        "Ввод:\n",
        "```\n",
        "1 2 3 4 5 6 7\n",
        "```\n",
        "Вывод:\n",
        "\n",
        "```\n",
        "Сумма чисел: 28\n",
        "Среднее арифм.: 4.0\n",
        "Максимальное значение: 7\n",
        "```\n",
        "\n"
      ],
      "metadata": {
        "id": "p0v6KtHTFKSd"
      }
    },
    {
      "cell_type": "code",
      "source": [
        "num_str = list(map(input().split(' ')))2\n",
        "amount = 0\n",
        "sum_num = 0\n",
        "max_num = -10**10\n",
        "\n",
        "for num in num_str:\n",
        "  amount += 1\n",
        "  sum_num += int(num)\n",
        "  if int(num) > max_num:\n",
        "    max_num = int(num)\n",
        "\n",
        "average_num = sum_num / amount\n",
        "print('Сумма чисел: ', sum_num, '\\nСреднее арифм.: ', average_num, '\\nМаксимальное значение:', max_num)\n",
        "\n"
      ],
      "metadata": {
        "id": "0e1Virl0FpF6",
        "colab": {
          "base_uri": "https://localhost:8080/",
          "height": 233
        },
        "outputId": "d82e8228-4cb1-48e0-fccf-5323223ce8b9"
      },
      "execution_count": 1,
      "outputs": [
        {
          "name": "stdout",
          "output_type": "stream",
          "text": [
            "28\n"
          ]
        },
        {
          "output_type": "error",
          "ename": "TypeError",
          "evalue": "map() must have at least two arguments.",
          "traceback": [
            "\u001b[0;31m---------------------------------------------------------------------------\u001b[0m",
            "\u001b[0;31mTypeError\u001b[0m                                 Traceback (most recent call last)",
            "\u001b[0;32m<ipython-input-1-3e3e0a8236ea>\u001b[0m in \u001b[0;36m<cell line: 1>\u001b[0;34m()\u001b[0m\n\u001b[0;32m----> 1\u001b[0;31m \u001b[0mnum_str\u001b[0m \u001b[0;34m=\u001b[0m \u001b[0mlist\u001b[0m\u001b[0;34m(\u001b[0m\u001b[0mmap\u001b[0m\u001b[0;34m(\u001b[0m\u001b[0minput\u001b[0m\u001b[0;34m(\u001b[0m\u001b[0;34m)\u001b[0m\u001b[0;34m.\u001b[0m\u001b[0msplit\u001b[0m\u001b[0;34m(\u001b[0m\u001b[0;34m' '\u001b[0m\u001b[0;34m)\u001b[0m\u001b[0;34m)\u001b[0m\u001b[0;34m)\u001b[0m\u001b[0;34m\u001b[0m\u001b[0;34m\u001b[0m\u001b[0m\n\u001b[0m\u001b[1;32m      2\u001b[0m \u001b[0mamount\u001b[0m \u001b[0;34m=\u001b[0m \u001b[0;36m0\u001b[0m\u001b[0;34m\u001b[0m\u001b[0;34m\u001b[0m\u001b[0m\n\u001b[1;32m      3\u001b[0m \u001b[0msum_num\u001b[0m \u001b[0;34m=\u001b[0m \u001b[0;36m0\u001b[0m\u001b[0;34m\u001b[0m\u001b[0;34m\u001b[0m\u001b[0m\n\u001b[1;32m      4\u001b[0m \u001b[0mmax_num\u001b[0m \u001b[0;34m=\u001b[0m \u001b[0;34m-\u001b[0m\u001b[0;36m10\u001b[0m\u001b[0;34m**\u001b[0m\u001b[0;36m10\u001b[0m\u001b[0;34m\u001b[0m\u001b[0;34m\u001b[0m\u001b[0m\n\u001b[1;32m      5\u001b[0m \u001b[0;34m\u001b[0m\u001b[0m\n",
            "\u001b[0;31mTypeError\u001b[0m: map() must have at least two arguments."
          ]
        }
      ]
    },
    {
      "cell_type": "markdown",
      "source": [
        "# **Задача 2.**"
      ],
      "metadata": {
        "id": "uFluc5OSK0NH"
      }
    },
    {
      "cell_type": "markdown",
      "source": [
        "\n",
        "Напишите программу на Python, которая принимает список слов в качестве входных данных от пользователя, а затем распечатывает список в обратном порядке.\n",
        "\n",
        "Ввод:\n",
        "\n",
        "```\n",
        "апельсин мандарин яблоко\n",
        "```\n",
        "\n",
        "Вывод:\n",
        "\n",
        "```\n",
        "яблоко мандарин апельсин\n",
        "```"
      ],
      "metadata": {
        "id": "6T8vg324GG4Z"
      }
    },
    {
      "cell_type": "code",
      "source": [
        "list_eat = ['апельсин', 'мандарин', 'яблоко']\n",
        "print(list_eat[::-1])"
      ],
      "metadata": {
        "id": "v3AWj4ufGKox",
        "colab": {
          "base_uri": "https://localhost:8080/"
        },
        "outputId": "71124f67-1eb6-4c49-9f25-3598a9cbbff6"
      },
      "execution_count": null,
      "outputs": [
        {
          "output_type": "stream",
          "name": "stdout",
          "text": [
            "['яблоко', 'мандарин', 'апельсин']\n"
          ]
        }
      ]
    },
    {
      "cell_type": "markdown",
      "source": [
        "# **Задача 3**"
      ],
      "metadata": {
        "id": "D1KkCxtIKxRx"
      }
    },
    {
      "cell_type": "markdown",
      "source": [
        "Простой чат-бот\n",
        "Создайте простого чат-бота, который отвечает на основные запросы пользователей. Программа должна использовать условные выражения для определения намерений пользователя и последующего соответствующего ответа.\n",
        "\n",
        "Чат бот может:\n",
        "\n",
        "- помогать складывать числа\n",
        "- подсказывать фильм, музыку и тд (из заранее созданного списка)\n",
        "- создавать список дел (а также выводить его, обновлять, очищать)\n",
        "\n",
        "Интерфейс чат-бота на ваше усмотрение, это могут быть как заранее определенные команды, так и к примеру вызов команды по номеру\n",
        "\n",
        "*Реализовать без использования функций*\n",
        "\n",
        "Пример:\n",
        "\n",
        "Ввод:\n",
        "\n",
        "```\n",
        "Олег, какую мызыку посоветуешь?\n",
        "```\n",
        "\n",
        "Вывод:\n",
        "\n",
        "```\n",
        "Я бы посоветовал вам: Led Zeppelin Stairway to Heaven\n",
        "```"
      ],
      "metadata": {
        "id": "Yq8Jgb9yHvSi"
      }
    },
    {
      "cell_type": "code",
      "source": [
        "import random\n",
        "a = int(input('1 - музыка \\n 2 - сложение чисел \\n 3 - список дел (введите 1/2/3)'))\n",
        "if a == 1:\n",
        "  musics = ['Led Zeppelin Stairway to Heaven', 'Bohemian Rapsody', 'Back in black']\n",
        "  random_music = random.choice(musics)\n",
        "  print(random_music)\n",
        "\n",
        "elif a == 2:\n",
        "  num_1 = int(input('Введите 1-ое число: '))\n",
        "  num_2 = int(input('Введите 2-ое число: '))\n",
        "  sum_1_2 = num_1 + num_2\n",
        "  print('Сумма', num_1, '+', num_2, '=', sum_1_2)\n",
        "\n",
        "elif a == 3:\n",
        "  todo = list()\n",
        "  print('Ваш список дел пуст!')\n",
        "  task = input('Добавить задачу... ')\n",
        "  todo.append(task)\n",
        "  print('Ваш список дел:\\n', todo)\n",
        "  print('Что желаете поменять?')\n",
        "  work = True\n",
        "  while work:\n",
        "    work_index = int(input('Введите 1 или 2 или 3 \\n 1 - посмотреть список дел \\n 2 - добавить задачу \\n 3 - удалить задачу'))\n",
        "    if work_index == 1:\n",
        "      print('Ваш список дел:\\n', todo)\n",
        "\n",
        "    elif work_index == 2:\n",
        "      item = input('Введите задачу... я жду')\n",
        "      todo.append(item)\n",
        "      print('Задача добавлена!')\n",
        "\n",
        "    else:\n",
        "      print('Скопируйте задачу, которую хотите удалить и вставтье в эту строку!')\n",
        "      copy_item = input('Введите задачу, которую хотите удалить')\n",
        "      if copy_item in todo:\n",
        "        todo.remove(copy_item)\n",
        "        print('Задача', copy_item, 'удалена!')\n",
        "      else:\n",
        "        print('Задача не найдена, провертье правильность ввода!')\n",
        "\n",
        "    want_next = input('Хотите продолжить? \\n Введит ДА или НЕТ')\n",
        "    if want_next == \"ДА\":\n",
        "       work = True\n",
        "    else:\n",
        "      work = False"
      ],
      "metadata": {
        "id": "fmW-tmUtINN9",
        "colab": {
          "base_uri": "https://localhost:8080/"
        },
        "outputId": "075d0c81-8365-4517-da0f-f847ed5044df"
      },
      "execution_count": null,
      "outputs": [
        {
          "name": "stdout",
          "output_type": "stream",
          "text": [
            "1 - музыка \n",
            " 2 - сложение чисел \n",
            " 3 - список дел (введите 1/2/3)3\n",
            "Ваш список дел пуст!\n",
            "Добавить задачу... Поесть\n",
            "Ваш список дел:\n",
            " ['Поесть']\n",
            "Что желаете поменять?\n",
            "Введите 1 или 2 или 3 \n",
            " 1 - посмотреть список дел \n",
            " 2 - добавить задачу \n",
            " 3 - удалить задачу3\n",
            "Скопируйте задачу, которую хотите удалить и вставтье в эту строку!\n",
            "Введите задачу, которую хотите удалитьПоесть\n",
            "Задача Поесть удалена!\n",
            "Хотите продолжить? \n",
            " Введит ДА или НЕТНЕТ\n"
          ]
        }
      ]
    },
    {
      "cell_type": "markdown",
      "source": [
        "# **Задача 4.**\n"
      ],
      "metadata": {
        "id": "PHXBfyc6Ko7D"
      }
    },
    {
      "cell_type": "markdown",
      "source": [
        "Камень, ножницы, бумага\n",
        "\n",
        "Создайте игру в Камень, ножницы, бумагу, в которой пользователь может играть против компьютера. Программа должна запросить выбор пользователя, а затем сгенерировать выбор компьютера. Затем программа должна определить победителя на основе правил игры.\n",
        "\n",
        "**Этап 1:**\n",
        "\n",
        "Определение победителя\n",
        "\n",
        "**Этап 2:**\n",
        "  \n",
        "Игра до 3 побед\n",
        "\n",
        "\n",
        "Ввод для \"Этап 1\":\n",
        "\n",
        "```\n",
        "Камень\n",
        "```\n",
        "\n",
        "Вывод:\n",
        "\n",
        "```\n",
        "Компьютер: Ножницы\n",
        "Игрок: Камень\n",
        "Победа: Игрок\n",
        "```"
      ],
      "metadata": {
        "id": "jnKWeYleI0j6"
      }
    },
    {
      "cell_type": "code",
      "source": [
        "import random\n",
        "\n",
        "comp_list = ['Ножницы', 'Камень', 'Бумага']\n",
        "people = input('Вводите:\\n')\n",
        "comp = random.choice(comp_list)\n",
        "print('Компьютер:', comp,  '\\nИгрок:', people)\n",
        "\n",
        "if people in comp_list:\n",
        "  if comp == 'Ножницы' and people == 'Ножницы':\n",
        "    print('Победа: Ничья')\n",
        "  elif comp == 'Ножницы' and people == 'Бумага':\n",
        "    print('Победа: Компьютер')\n",
        "  elif comp == 'Ножницы' and people == 'Камень':\n",
        "    print('Победа: Игрок')\n",
        "  elif comp == 'Бумага' and people == 'Бумага':\n",
        "    print('Победа: Ничья')\n",
        "  elif comp == 'Бумага' and people == 'Ножницы':\n",
        "    print('Победа: Игрок')\n",
        "  elif comp == 'Бумага' and people == 'Камень':\n",
        "    print('Победа: Компьютер')\n",
        "  elif comp == 'Камень' and people == 'Камень':\n",
        "    print('Победа: Ничья')\n",
        "  elif comp == 'Камень' and people == 'Ножницы':\n",
        "    print('Победа: Компьютер')\n",
        "  elif comp == 'Камень' and people == 'Бумага':\n",
        "    print('Победа: Игрок')\n",
        "else:\n",
        "  print('Вы ввели некорректное слово! \\n Пример: Бумага/Камень/Ножницы')"
      ],
      "metadata": {
        "id": "ooIPCRe_JHkX"
      },
      "execution_count": null,
      "outputs": []
    },
    {
      "cell_type": "markdown",
      "source": [
        "# **Задача 5.**"
      ],
      "metadata": {
        "id": "Hg4FJNFbLHQO"
      }
    },
    {
      "cell_type": "markdown",
      "source": [
        "Создайте игру \"Палач\" или \"Виселица\", в которой пользователь должен угадать слово, предлагая буквы. Программа должна выбрать случайное слово, а затем разрешить пользователю угадывать буквы. После каждого угадывания программа должна сообщать пользователю, есть ли в слове буква или нет.\n",
        "\n",
        "**Этап 1**\n",
        "Создать саму игру (игра должна иметь привлекательный интерфейс, соотвесвующий классической висилице)\n",
        "\n",
        "**Этап 2:**\n",
        "Ввести подсчет количества очков и ограничения на попытки\n",
        "\n",
        "**Этап 3:** Добавить возможность сразу угадать слово"
      ],
      "metadata": {
        "id": "OHqj3HJuLJgY"
      }
    },
    {
      "cell_type": "code",
      "source": [
        "import random\n",
        "\n",
        "\n",
        "'''words_list = ['зебра', 'конь']\n",
        "word = random.choice(words_list)\n",
        "print(word)\n",
        "word_str = list()\n",
        "word_str_copy = word_str\n",
        "count = 0\n",
        "\n",
        "for i in word:\n",
        "  word_str.append(i)\n",
        "  count += 1\n",
        "print(word_str)\n",
        "\n",
        "for i in range(count):\n",
        "  word_str_copy[i] = '_'\n",
        "\n",
        "word_str_clear = ' '.join(word_str_copy)\n",
        "error = list()\n",
        "a = count\n",
        "print('Слово: ', word_str_clear)\n",
        "people_choice = input('Ввести слово полностью: ДА/НЕТ: ')\n",
        "\n",
        "if people_choice == 'ДА':\n",
        "  people_word = input('Вводите слово: ')\n",
        "  if people_word == word:\n",
        "    print('Вы выйграли. Поздравляю!')\n",
        "  else:\n",
        "    print('Вы проиграли!')\n",
        "\n",
        "else:\n",
        "  while a != 0:\n",
        "    print('Слово: ', word_str_clear)\n",
        "    people_letter = input('Введите букву: ')\n",
        "    if people_letter in word:\n",
        "      print('Вы угадали букву')'''\n",
        "\n",
        "\n",
        "words_list = [\"зебра\", \"конь\"]\n",
        "word = random.choice(words_list)\n",
        "now_word = [\"_\" for i in word]\n",
        "guessed_letters = set()\n",
        "chance = 6\n",
        "\n",
        "print(\"Добро пожаловать в игру 'Палач'!\")\n",
        "\n",
        "while chance > 0 and \"_\" in now_word:\n",
        "    print(\"\\nСлово: \" + \" \".join(now_word))\n",
        "    print(f\"Попыток осталось: {chance}\")\n",
        "    guess = input(\"Введите букву: \")\n",
        "\n",
        "    if len(guess) == len(word):\n",
        "        if guess == word:\n",
        "            now_word = list(word)\n",
        "            break\n",
        "        else:\n",
        "            print(\"Неверное слово!\")\n",
        "            chance -= 1\n",
        "            continue\n",
        "\n",
        "    if len(guess) != 1:\n",
        "        print(\"Введите одну букву!\")\n",
        "        continue\n",
        "\n",
        "    if guess in guessed_letters:\n",
        "        print(\"Вы уже угадывали эту букву.\")\n",
        "        continue\n",
        "\n",
        "    guessed_letters.add(guess)\n",
        "\n",
        "    if guess in word:\n",
        "        print(\"Верно!\")\n",
        "        for i, letter in enumerate(word):\n",
        "            if letter == guess:\n",
        "                now_word[i] = guess\n",
        "\n",
        "    if guess in word:\n",
        "            print(\"Верно!\")\n",
        "            index = [i for i in range(len(word)) if word[i] == guess]\n",
        "            for index in index:\n",
        "                now_word[i] = guess\n",
        "\n",
        "    else:\n",
        "        print(\"Неверно!\")\n",
        "        chance -= 1\n",
        "\n",
        "if \"_\" not in now_word:\n",
        "    print(f\"\\nПоздравляем! Вы угадали слово:  {''.join(now_word)}\")\n",
        "\n",
        "else:\n",
        "    print(f\"\\nВы проиграли! Загаданное слово было: {word}\")\n",
        "\n"
      ],
      "metadata": {
        "id": "0N2zCYwVLiIw",
        "colab": {
          "base_uri": "https://localhost:8080/"
        },
        "outputId": "2e83edde-f1ee-4de5-95b7-f999a1bb112f"
      },
      "execution_count": 11,
      "outputs": [
        {
          "output_type": "stream",
          "name": "stdout",
          "text": [
            "Добро пожаловать в игру 'Палач'!\n",
            "\n",
            "Слово: _ _ _ _ _\n",
            "Попыток осталось: 6\n",
            "Введите букву: p\n",
            "Неверно!\n",
            "\n",
            "Слово: _ _ _ _ _\n",
            "Попыток осталось: 5\n",
            "Введите букву: з\n",
            "Верно!\n",
            "\n",
            "Слово: з _ _ _ _\n",
            "Попыток осталось: 5\n",
            "Введите букву: е\n",
            "Верно!\n",
            "\n",
            "Слово: з е _ _ _\n",
            "Попыток осталось: 5\n",
            "Введите букву: б\n",
            "Верно!\n",
            "\n",
            "Слово: з е б _ _\n",
            "Попыток осталось: 5\n",
            "Введите букву: р\n",
            "Верно!\n",
            "\n",
            "Слово: з е б р _\n",
            "Попыток осталось: 5\n",
            "Введите букву: а\n",
            "Верно!\n",
            "\n",
            "Поздравляем! Вы угадали слово:  ['з', 'е', 'б', 'р', 'а']\n"
          ]
        }
      ]
    },
    {
      "cell_type": "code",
      "source": [],
      "metadata": {
        "id": "BX2UzQEya5Ge"
      },
      "execution_count": null,
      "outputs": []
    },
    {
      "cell_type": "markdown",
      "source": [
        "# **Дополнительно: Задача 6.**\n"
      ],
      "metadata": {
        "id": "w0x3QFGzKtDD"
      }
    },
    {
      "cell_type": "markdown",
      "source": [
        "\n",
        "**Цифра на определенном месте:**\n",
        "\n",
        "Последовательно записан натуральный ряд чисел.\n",
        "\n",
        "Какая цифра стоит в N позиции\n",
        "\n",
        "\n",
        "Вввод:\n",
        "\n",
        "```\n",
        "Введите номер позиции: 1234567890\n",
        "```\n",
        "\n",
        "Вывод:\n",
        "\n",
        "```\n",
        "8\n",
        "```"
      ],
      "metadata": {
        "id": "QqZArcpHJxVj"
      }
    },
    {
      "cell_type": "code",
      "source": [],
      "metadata": {
        "id": "LwjYwBGcKiJ9"
      },
      "execution_count": null,
      "outputs": []
    }
  ]
}